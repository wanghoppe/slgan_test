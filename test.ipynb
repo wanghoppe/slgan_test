{
 "cells": [
  {
   "cell_type": "code",
   "execution_count": 1,
   "metadata": {},
   "outputs": [
    {
     "name": "stderr",
     "output_type": "stream",
     "text": [
      "/home/hoppe/.local/lib/python3.5/site-packages/h5py/__init__.py:36: FutureWarning: Conversion of the second argument of issubdtype from `float` to `np.floating` is deprecated. In future, it will be treated as `np.float64 == np.dtype(float).type`.\n",
      "  from ._conv import register_converters as _register_converters\n"
     ]
    }
   ],
   "source": [
    "import os, time, pickle, random, time\n",
    "from datetime import datetime\n",
    "import numpy as np\n",
    "from time import localtime, strftime\n",
    "import logging, scipy\n",
    "\n",
    "import tensorflow as tf\n",
    "import tensorlayer as tl\n",
    "from model import SRGAN_g, SRGAN_d, Vgg19_simple_api\n",
    "from utils import *\n",
    "from config import config, log_config"
   ]
  },
  {
   "cell_type": "code",
   "execution_count": 2,
   "metadata": {},
   "outputs": [],
   "source": [
    "checkpoint_dir = \"checkpoint\"\n",
    "save_dir = 'sample_dir'\n",
    "path = '/home/hoppe/Code/726/srgan-master/test_img/DIV2K_valid_LR_bicubic/X4'"
   ]
  },
  {
   "cell_type": "code",
   "execution_count": 3,
   "metadata": {},
   "outputs": [
    {
     "name": "stderr",
     "output_type": "stream",
     "text": [
      "[TL] read 32 from /home/hoppe/Code/726/srgan-master/test_img/DIV2K_valid_LR_bicubic/X4\n",
      "[TL] read 64 from /home/hoppe/Code/726/srgan-master/test_img/DIV2K_valid_LR_bicubic/X4\n",
      "[TL] read 96 from /home/hoppe/Code/726/srgan-master/test_img/DIV2K_valid_LR_bicubic/X4\n",
      "[TL] read 100 from /home/hoppe/Code/726/srgan-master/test_img/DIV2K_valid_LR_bicubic/X4\n"
     ]
    }
   ],
   "source": [
    "valid_lr_img_list = sorted(tl.files.load_file_list(path=path, regx='.*.png', printable=False))\n",
    "\n",
    "valid_lr_imgs = tl.vis.read_images(valid_lr_img_list, \\\n",
    "                        path=path, n_threads=32)"
   ]
  },
  {
   "cell_type": "code",
   "execution_count": 4,
   "metadata": {},
   "outputs": [
    {
     "name": "stderr",
     "output_type": "stream",
     "text": [
      "[TL] read 32 from /home/hoppe/Code/726/srgan-master/test_img/DIV2K_valid_LR_bicubic/X4\n",
      "[TL] read 64 from /home/hoppe/Code/726/srgan-master/test_img/DIV2K_valid_LR_bicubic/X4\n",
      "[TL] read 96 from /home/hoppe/Code/726/srgan-master/test_img/DIV2K_valid_LR_bicubic/X4\n",
      "[TL] read 100 from /home/hoppe/Code/726/srgan-master/test_img/DIV2K_valid_LR_bicubic/X4\n"
     ]
    }
   ],
   "source": [
    "valid_lr_imgs = tl.vis.read_images(valid_lr_img_list, \\\n",
    "                        path=path, n_threads=32)"
   ]
  },
  {
   "cell_type": "code",
   "execution_count": 5,
   "metadata": {},
   "outputs": [],
   "source": [
    "imid = 50  # 0: 企鹅  81: 蝴蝶 53: 鸟  64: 古堡\n",
    "valid_lr_img = valid_lr_imgs[imid]\n",
    "valid_lr_img = (valid_lr_img / 127.5) - 1"
   ]
  },
  {
   "cell_type": "code",
   "execution_count": 6,
   "metadata": {
    "collapsed": true
   },
   "outputs": [
    {
     "name": "stderr",
     "output_type": "stream",
     "text": [
      "[TL] InputLayer  SRGAN_g/in: (1, ?, ?, 3)\n",
      "[TL] Conv2dLayer SRGAN_g/n64s1/c: shape:(3, 3, 3, 64) strides:(1, 1, 1, 1) pad:SAME act:relu\n",
      "[TL] Conv2dLayer SRGAN_g/n64s1/c1/0: shape:(3, 3, 64, 64) strides:(1, 1, 1, 1) pad:SAME act:identity\n",
      "[TL] BatchNormLayer SRGAN_g/n64s1/b1/0: decay:0.900000 epsilon:0.000010 act:relu is_train:False\n",
      "[TL] Conv2dLayer SRGAN_g/n64s1/c2/0: shape:(3, 3, 64, 64) strides:(1, 1, 1, 1) pad:SAME act:identity\n",
      "[TL] BatchNormLayer SRGAN_g/n64s1/b2/0: decay:0.900000 epsilon:0.000010 act:identity is_train:False\n",
      "[TL] ElementwiseLayer SRGAN_g/b_residual_add/0: size:(1, ?, ?, 64) fn:add\n",
      "[TL] Conv2dLayer SRGAN_g/n64s1/c1/1: shape:(3, 3, 64, 64) strides:(1, 1, 1, 1) pad:SAME act:identity\n",
      "[TL] BatchNormLayer SRGAN_g/n64s1/b1/1: decay:0.900000 epsilon:0.000010 act:relu is_train:False\n",
      "[TL] Conv2dLayer SRGAN_g/n64s1/c2/1: shape:(3, 3, 64, 64) strides:(1, 1, 1, 1) pad:SAME act:identity\n",
      "[TL] BatchNormLayer SRGAN_g/n64s1/b2/1: decay:0.900000 epsilon:0.000010 act:identity is_train:False\n",
      "[TL] ElementwiseLayer SRGAN_g/b_residual_add/1: size:(1, ?, ?, 64) fn:add\n",
      "[TL] Conv2dLayer SRGAN_g/n64s1/c1/2: shape:(3, 3, 64, 64) strides:(1, 1, 1, 1) pad:SAME act:identity\n",
      "[TL] BatchNormLayer SRGAN_g/n64s1/b1/2: decay:0.900000 epsilon:0.000010 act:relu is_train:False\n",
      "[TL] Conv2dLayer SRGAN_g/n64s1/c2/2: shape:(3, 3, 64, 64) strides:(1, 1, 1, 1) pad:SAME act:identity\n",
      "[TL] BatchNormLayer SRGAN_g/n64s1/b2/2: decay:0.900000 epsilon:0.000010 act:identity is_train:False\n",
      "[TL] ElementwiseLayer SRGAN_g/b_residual_add/2: size:(1, ?, ?, 64) fn:add\n",
      "[TL] Conv2dLayer SRGAN_g/n64s1/c1/3: shape:(3, 3, 64, 64) strides:(1, 1, 1, 1) pad:SAME act:identity\n",
      "[TL] BatchNormLayer SRGAN_g/n64s1/b1/3: decay:0.900000 epsilon:0.000010 act:relu is_train:False\n",
      "[TL] Conv2dLayer SRGAN_g/n64s1/c2/3: shape:(3, 3, 64, 64) strides:(1, 1, 1, 1) pad:SAME act:identity\n",
      "[TL] BatchNormLayer SRGAN_g/n64s1/b2/3: decay:0.900000 epsilon:0.000010 act:identity is_train:False\n",
      "[TL] ElementwiseLayer SRGAN_g/b_residual_add/3: size:(1, ?, ?, 64) fn:add\n",
      "[TL] Conv2dLayer SRGAN_g/n64s1/c1/4: shape:(3, 3, 64, 64) strides:(1, 1, 1, 1) pad:SAME act:identity\n",
      "[TL] BatchNormLayer SRGAN_g/n64s1/b1/4: decay:0.900000 epsilon:0.000010 act:relu is_train:False\n",
      "[TL] Conv2dLayer SRGAN_g/n64s1/c2/4: shape:(3, 3, 64, 64) strides:(1, 1, 1, 1) pad:SAME act:identity\n",
      "[TL] BatchNormLayer SRGAN_g/n64s1/b2/4: decay:0.900000 epsilon:0.000010 act:identity is_train:False\n",
      "[TL] ElementwiseLayer SRGAN_g/b_residual_add/4: size:(1, ?, ?, 64) fn:add\n",
      "[TL] Conv2dLayer SRGAN_g/n64s1/c1/5: shape:(3, 3, 64, 64) strides:(1, 1, 1, 1) pad:SAME act:identity\n",
      "[TL] BatchNormLayer SRGAN_g/n64s1/b1/5: decay:0.900000 epsilon:0.000010 act:relu is_train:False\n",
      "[TL] Conv2dLayer SRGAN_g/n64s1/c2/5: shape:(3, 3, 64, 64) strides:(1, 1, 1, 1) pad:SAME act:identity\n",
      "[TL] BatchNormLayer SRGAN_g/n64s1/b2/5: decay:0.900000 epsilon:0.000010 act:identity is_train:False\n",
      "[TL] ElementwiseLayer SRGAN_g/b_residual_add/5: size:(1, ?, ?, 64) fn:add\n",
      "[TL] Conv2dLayer SRGAN_g/n64s1/c1/6: shape:(3, 3, 64, 64) strides:(1, 1, 1, 1) pad:SAME act:identity\n",
      "[TL] BatchNormLayer SRGAN_g/n64s1/b1/6: decay:0.900000 epsilon:0.000010 act:relu is_train:False\n",
      "[TL] Conv2dLayer SRGAN_g/n64s1/c2/6: shape:(3, 3, 64, 64) strides:(1, 1, 1, 1) pad:SAME act:identity\n",
      "[TL] BatchNormLayer SRGAN_g/n64s1/b2/6: decay:0.900000 epsilon:0.000010 act:identity is_train:False\n",
      "[TL] ElementwiseLayer SRGAN_g/b_residual_add/6: size:(1, ?, ?, 64) fn:add\n",
      "[TL] Conv2dLayer SRGAN_g/n64s1/c1/7: shape:(3, 3, 64, 64) strides:(1, 1, 1, 1) pad:SAME act:identity\n",
      "[TL] BatchNormLayer SRGAN_g/n64s1/b1/7: decay:0.900000 epsilon:0.000010 act:relu is_train:False\n",
      "[TL] Conv2dLayer SRGAN_g/n64s1/c2/7: shape:(3, 3, 64, 64) strides:(1, 1, 1, 1) pad:SAME act:identity\n",
      "[TL] BatchNormLayer SRGAN_g/n64s1/b2/7: decay:0.900000 epsilon:0.000010 act:identity is_train:False\n",
      "[TL] ElementwiseLayer SRGAN_g/b_residual_add/7: size:(1, ?, ?, 64) fn:add\n",
      "[TL] Conv2dLayer SRGAN_g/n64s1/c1/8: shape:(3, 3, 64, 64) strides:(1, 1, 1, 1) pad:SAME act:identity\n",
      "[TL] BatchNormLayer SRGAN_g/n64s1/b1/8: decay:0.900000 epsilon:0.000010 act:relu is_train:False\n",
      "[TL] Conv2dLayer SRGAN_g/n64s1/c2/8: shape:(3, 3, 64, 64) strides:(1, 1, 1, 1) pad:SAME act:identity\n",
      "[TL] BatchNormLayer SRGAN_g/n64s1/b2/8: decay:0.900000 epsilon:0.000010 act:identity is_train:False\n",
      "[TL] ElementwiseLayer SRGAN_g/b_residual_add/8: size:(1, ?, ?, 64) fn:add\n",
      "[TL] Conv2dLayer SRGAN_g/n64s1/c1/9: shape:(3, 3, 64, 64) strides:(1, 1, 1, 1) pad:SAME act:identity\n",
      "[TL] BatchNormLayer SRGAN_g/n64s1/b1/9: decay:0.900000 epsilon:0.000010 act:relu is_train:False\n",
      "[TL] Conv2dLayer SRGAN_g/n64s1/c2/9: shape:(3, 3, 64, 64) strides:(1, 1, 1, 1) pad:SAME act:identity\n",
      "[TL] BatchNormLayer SRGAN_g/n64s1/b2/9: decay:0.900000 epsilon:0.000010 act:identity is_train:False\n",
      "[TL] ElementwiseLayer SRGAN_g/b_residual_add/9: size:(1, ?, ?, 64) fn:add\n",
      "[TL] Conv2dLayer SRGAN_g/n64s1/c1/10: shape:(3, 3, 64, 64) strides:(1, 1, 1, 1) pad:SAME act:identity\n",
      "[TL] BatchNormLayer SRGAN_g/n64s1/b1/10: decay:0.900000 epsilon:0.000010 act:relu is_train:False\n",
      "[TL] Conv2dLayer SRGAN_g/n64s1/c2/10: shape:(3, 3, 64, 64) strides:(1, 1, 1, 1) pad:SAME act:identity\n",
      "[TL] BatchNormLayer SRGAN_g/n64s1/b2/10: decay:0.900000 epsilon:0.000010 act:identity is_train:False\n",
      "[TL] ElementwiseLayer SRGAN_g/b_residual_add/10: size:(1, ?, ?, 64) fn:add\n",
      "[TL] Conv2dLayer SRGAN_g/n64s1/c1/11: shape:(3, 3, 64, 64) strides:(1, 1, 1, 1) pad:SAME act:identity\n",
      "[TL] BatchNormLayer SRGAN_g/n64s1/b1/11: decay:0.900000 epsilon:0.000010 act:relu is_train:False\n",
      "[TL] Conv2dLayer SRGAN_g/n64s1/c2/11: shape:(3, 3, 64, 64) strides:(1, 1, 1, 1) pad:SAME act:identity\n",
      "[TL] BatchNormLayer SRGAN_g/n64s1/b2/11: decay:0.900000 epsilon:0.000010 act:identity is_train:False\n",
      "[TL] ElementwiseLayer SRGAN_g/b_residual_add/11: size:(1, ?, ?, 64) fn:add\n",
      "[TL] Conv2dLayer SRGAN_g/n64s1/c1/12: shape:(3, 3, 64, 64) strides:(1, 1, 1, 1) pad:SAME act:identity\n",
      "[TL] BatchNormLayer SRGAN_g/n64s1/b1/12: decay:0.900000 epsilon:0.000010 act:relu is_train:False\n",
      "[TL] Conv2dLayer SRGAN_g/n64s1/c2/12: shape:(3, 3, 64, 64) strides:(1, 1, 1, 1) pad:SAME act:identity\n",
      "[TL] BatchNormLayer SRGAN_g/n64s1/b2/12: decay:0.900000 epsilon:0.000010 act:identity is_train:False\n",
      "[TL] ElementwiseLayer SRGAN_g/b_residual_add/12: size:(1, ?, ?, 64) fn:add\n",
      "[TL] Conv2dLayer SRGAN_g/n64s1/c1/13: shape:(3, 3, 64, 64) strides:(1, 1, 1, 1) pad:SAME act:identity\n",
      "[TL] BatchNormLayer SRGAN_g/n64s1/b1/13: decay:0.900000 epsilon:0.000010 act:relu is_train:False\n",
      "[TL] Conv2dLayer SRGAN_g/n64s1/c2/13: shape:(3, 3, 64, 64) strides:(1, 1, 1, 1) pad:SAME act:identity\n",
      "[TL] BatchNormLayer SRGAN_g/n64s1/b2/13: decay:0.900000 epsilon:0.000010 act:identity is_train:False\n",
      "[TL] ElementwiseLayer SRGAN_g/b_residual_add/13: size:(1, ?, ?, 64) fn:add\n",
      "[TL] Conv2dLayer SRGAN_g/n64s1/c1/14: shape:(3, 3, 64, 64) strides:(1, 1, 1, 1) pad:SAME act:identity\n",
      "[TL] BatchNormLayer SRGAN_g/n64s1/b1/14: decay:0.900000 epsilon:0.000010 act:relu is_train:False\n",
      "[TL] Conv2dLayer SRGAN_g/n64s1/c2/14: shape:(3, 3, 64, 64) strides:(1, 1, 1, 1) pad:SAME act:identity\n",
      "[TL] BatchNormLayer SRGAN_g/n64s1/b2/14: decay:0.900000 epsilon:0.000010 act:identity is_train:False\n",
      "[TL] ElementwiseLayer SRGAN_g/b_residual_add/14: size:(1, ?, ?, 64) fn:add\n",
      "[TL] Conv2dLayer SRGAN_g/n64s1/c1/15: shape:(3, 3, 64, 64) strides:(1, 1, 1, 1) pad:SAME act:identity\n",
      "[TL] BatchNormLayer SRGAN_g/n64s1/b1/15: decay:0.900000 epsilon:0.000010 act:relu is_train:False\n",
      "[TL] Conv2dLayer SRGAN_g/n64s1/c2/15: shape:(3, 3, 64, 64) strides:(1, 1, 1, 1) pad:SAME act:identity\n",
      "[TL] BatchNormLayer SRGAN_g/n64s1/b2/15: decay:0.900000 epsilon:0.000010 act:identity is_train:False\n",
      "[TL] ElementwiseLayer SRGAN_g/b_residual_add/15: size:(1, ?, ?, 64) fn:add\n",
      "[TL] Conv2dLayer SRGAN_g/n64s1/c/m: shape:(3, 3, 64, 64) strides:(1, 1, 1, 1) pad:SAME act:identity\n",
      "[TL] BatchNormLayer SRGAN_g/n64s1/b/m: decay:0.900000 epsilon:0.000010 act:identity is_train:False\n",
      "[TL] ElementwiseLayer SRGAN_g/add3: size:(1, ?, ?, 64) fn:add\n",
      "[TL] Conv2dLayer SRGAN_g/n256s1/1: shape:(3, 3, 64, 256) strides:(1, 1, 1, 1) pad:SAME act:identity\n",
      "[TL] SubpixelConv2d  pixelshufflerx2/1: scale: 2 n_out_channel: 64 act: relu\n",
      "[TL] Conv2dLayer SRGAN_g/n256s1/2: shape:(3, 3, 64, 256) strides:(1, 1, 1, 1) pad:SAME act:identity\n"
     ]
    },
    {
     "name": "stderr",
     "output_type": "stream",
     "text": [
      "[TL] SubpixelConv2d  pixelshufflerx2/2: scale: 2 n_out_channel: 64 act: relu\n",
      "[TL] Conv2dLayer SRGAN_g/out: shape:(1, 1, 64, 3) strides:(1, 1, 1, 1) pad:SAME act:tanh\n"
     ]
    }
   ],
   "source": [
    "t_image = tf.placeholder('float32', [1, None, None, 3], name='input_image')\n",
    "net_g = SRGAN_g(t_image, is_train=False, reuse=False)"
   ]
  },
  {
   "cell_type": "code",
   "execution_count": 7,
   "metadata": {},
   "outputs": [
    {
     "name": "stderr",
     "output_type": "stream",
     "text": [
      "[TL] [*] Load checkpoint/g_srgan.npz SUCCESS!\n"
     ]
    },
    {
     "data": {
      "text/plain": [
       "<tensorlayer.layers.convolution.Conv2dLayer at 0x7fb5b76f7f98>"
      ]
     },
     "execution_count": 7,
     "metadata": {},
     "output_type": "execute_result"
    }
   ],
   "source": [
    "sess = tf.Session(config=tf.ConfigProto(allow_soft_placement=True, log_device_placement=False))\n",
    "tl.layers.initialize_global_variables(sess)\n",
    "tl.files.load_and_assign_npz(sess=sess, name=checkpoint_dir + '/g_srgan.npz', network=net_g)"
   ]
  },
  {
   "cell_type": "code",
   "execution_count": 8,
   "metadata": {},
   "outputs": [
    {
     "ename": "ResourceExhaustedError",
     "evalue": "OOM when allocating tensor with shape[256,64,3,3]\n\t [[Node: SRGAN_g/n256s1/2/Conv2D = Conv2D[T=DT_FLOAT, data_format=\"NHWC\", padding=\"SAME\", strides=[1, 1, 1, 1], use_cudnn_on_gpu=true, _device=\"/job:localhost/replica:0/task:0/device:GPU:0\"](SRGAN_g/pixelshufflerx2/1/Relu, SRGAN_g/n256s1/2/W_conv2d/read)]]\n\t [[Node: SRGAN_g/out/Tanh/_349 = _Recv[client_terminated=false, recv_device=\"/job:localhost/replica:0/task:0/device:CPU:0\", send_device=\"/job:localhost/replica:0/task:0/device:GPU:0\", send_device_incarnation=1, tensor_name=\"edge_918_SRGAN_g/out/Tanh\", tensor_type=DT_FLOAT, _device=\"/job:localhost/replica:0/task:0/device:CPU:0\"]()]]\n\nCaused by op 'SRGAN_g/n256s1/2/Conv2D', defined at:\n  File \"/home/hoppe/anaconda3/envs/tensorflow_env/lib/python3.5/runpy.py\", line 193, in _run_module_as_main\n    \"__main__\", mod_spec)\n  File \"/home/hoppe/anaconda3/envs/tensorflow_env/lib/python3.5/runpy.py\", line 85, in _run_code\n    exec(code, run_globals)\n  File \"/home/hoppe/anaconda3/envs/tensorflow_env/lib/python3.5/site-packages/ipykernel_launcher.py\", line 16, in <module>\n    app.launch_new_instance()\n  File \"/home/hoppe/anaconda3/envs/tensorflow_env/lib/python3.5/site-packages/traitlets/config/application.py\", line 658, in launch_instance\n    app.start()\n  File \"/home/hoppe/anaconda3/envs/tensorflow_env/lib/python3.5/site-packages/ipykernel/kernelapp.py\", line 486, in start\n    self.io_loop.start()\n  File \"/home/hoppe/anaconda3/envs/tensorflow_env/lib/python3.5/site-packages/zmq/eventloop/ioloop.py\", line 177, in start\n    super(ZMQIOLoop, self).start()\n  File \"/home/hoppe/anaconda3/envs/tensorflow_env/lib/python3.5/site-packages/tornado/ioloop.py\", line 888, in start\n    handler_func(fd_obj, events)\n  File \"/home/hoppe/anaconda3/envs/tensorflow_env/lib/python3.5/site-packages/tornado/stack_context.py\", line 277, in null_wrapper\n    return fn(*args, **kwargs)\n  File \"/home/hoppe/anaconda3/envs/tensorflow_env/lib/python3.5/site-packages/zmq/eventloop/zmqstream.py\", line 440, in _handle_events\n    self._handle_recv()\n  File \"/home/hoppe/anaconda3/envs/tensorflow_env/lib/python3.5/site-packages/zmq/eventloop/zmqstream.py\", line 472, in _handle_recv\n    self._run_callback(callback, msg)\n  File \"/home/hoppe/anaconda3/envs/tensorflow_env/lib/python3.5/site-packages/zmq/eventloop/zmqstream.py\", line 414, in _run_callback\n    callback(*args, **kwargs)\n  File \"/home/hoppe/anaconda3/envs/tensorflow_env/lib/python3.5/site-packages/tornado/stack_context.py\", line 277, in null_wrapper\n    return fn(*args, **kwargs)\n  File \"/home/hoppe/anaconda3/envs/tensorflow_env/lib/python3.5/site-packages/ipykernel/kernelbase.py\", line 283, in dispatcher\n    return self.dispatch_shell(stream, msg)\n  File \"/home/hoppe/anaconda3/envs/tensorflow_env/lib/python3.5/site-packages/ipykernel/kernelbase.py\", line 233, in dispatch_shell\n    handler(stream, idents, msg)\n  File \"/home/hoppe/anaconda3/envs/tensorflow_env/lib/python3.5/site-packages/ipykernel/kernelbase.py\", line 399, in execute_request\n    user_expressions, allow_stdin)\n  File \"/home/hoppe/anaconda3/envs/tensorflow_env/lib/python3.5/site-packages/ipykernel/ipkernel.py\", line 208, in do_execute\n    res = shell.run_cell(code, store_history=store_history, silent=silent)\n  File \"/home/hoppe/anaconda3/envs/tensorflow_env/lib/python3.5/site-packages/ipykernel/zmqshell.py\", line 537, in run_cell\n    return super(ZMQInteractiveShell, self).run_cell(*args, **kwargs)\n  File \"/home/hoppe/anaconda3/envs/tensorflow_env/lib/python3.5/site-packages/IPython/core/interactiveshell.py\", line 2662, in run_cell\n    raw_cell, store_history, silent, shell_futures)\n  File \"/home/hoppe/anaconda3/envs/tensorflow_env/lib/python3.5/site-packages/IPython/core/interactiveshell.py\", line 2785, in _run_cell\n    interactivity=interactivity, compiler=compiler, result=result)\n  File \"/home/hoppe/anaconda3/envs/tensorflow_env/lib/python3.5/site-packages/IPython/core/interactiveshell.py\", line 2903, in run_ast_nodes\n    if self.run_code(code, result):\n  File \"/home/hoppe/anaconda3/envs/tensorflow_env/lib/python3.5/site-packages/IPython/core/interactiveshell.py\", line 2963, in run_code\n    exec(code_obj, self.user_global_ns, self.user_ns)\n  File \"<ipython-input-6-544b41251620>\", line 2, in <module>\n    net_g = SRGAN_g(t_image, is_train=False, reuse=False)\n  File \"/home/hoppe/Code/726/srgan-master/model.py\", line 47, in SRGAN_g\n    n = Conv2d(n, 256, (3, 3), (1, 1), act=None, padding='SAME', W_init=w_init, name='n256s1/2')\n  File \"/home/hoppe/anaconda3/envs/tensorflow_env/lib/python3.5/site-packages/tensorlayer/layers/convolution.py\", line 1369, in conv2d\n    name=name)\n  File \"/home/hoppe/anaconda3/envs/tensorflow_env/lib/python3.5/site-packages/tensorlayer/layers/convolution.py\", line 188, in __init__\n    tf.nn.conv2d(self.inputs, W, strides=strides, padding=padding, use_cudnn_on_gpu=use_cudnn_on_gpu, data_format=data_format) + b)\n  File \"/home/hoppe/.local/lib/python3.5/site-packages/tensorflow/python/ops/gen_nn_ops.py\", line 631, in conv2d\n    data_format=data_format, name=name)\n  File \"/home/hoppe/.local/lib/python3.5/site-packages/tensorflow/python/framework/op_def_library.py\", line 787, in _apply_op_helper\n    op_def=op_def)\n  File \"/home/hoppe/.local/lib/python3.5/site-packages/tensorflow/python/framework/ops.py\", line 2956, in create_op\n    op_def=op_def)\n  File \"/home/hoppe/.local/lib/python3.5/site-packages/tensorflow/python/framework/ops.py\", line 1470, in __init__\n    self._traceback = self._graph._extract_stack()  # pylint: disable=protected-access\n\nResourceExhaustedError (see above for traceback): OOM when allocating tensor with shape[256,64,3,3]\n\t [[Node: SRGAN_g/n256s1/2/Conv2D = Conv2D[T=DT_FLOAT, data_format=\"NHWC\", padding=\"SAME\", strides=[1, 1, 1, 1], use_cudnn_on_gpu=true, _device=\"/job:localhost/replica:0/task:0/device:GPU:0\"](SRGAN_g/pixelshufflerx2/1/Relu, SRGAN_g/n256s1/2/W_conv2d/read)]]\n\t [[Node: SRGAN_g/out/Tanh/_349 = _Recv[client_terminated=false, recv_device=\"/job:localhost/replica:0/task:0/device:CPU:0\", send_device=\"/job:localhost/replica:0/task:0/device:GPU:0\", send_device_incarnation=1, tensor_name=\"edge_918_SRGAN_g/out/Tanh\", tensor_type=DT_FLOAT, _device=\"/job:localhost/replica:0/task:0/device:CPU:0\"]()]]\n",
     "output_type": "error",
     "traceback": [
      "\u001b[0;31m---------------------------------------------------------------------------\u001b[0m",
      "\u001b[0;31mResourceExhaustedError\u001b[0m                    Traceback (most recent call last)",
      "\u001b[0;32m~/.local/lib/python3.5/site-packages/tensorflow/python/client/session.py\u001b[0m in \u001b[0;36m_do_call\u001b[0;34m(self, fn, *args)\u001b[0m\n\u001b[1;32m   1322\u001b[0m     \u001b[0;32mtry\u001b[0m\u001b[0;34m:\u001b[0m\u001b[0;34m\u001b[0m\u001b[0m\n\u001b[0;32m-> 1323\u001b[0;31m       \u001b[0;32mreturn\u001b[0m \u001b[0mfn\u001b[0m\u001b[0;34m(\u001b[0m\u001b[0;34m*\u001b[0m\u001b[0margs\u001b[0m\u001b[0;34m)\u001b[0m\u001b[0;34m\u001b[0m\u001b[0m\n\u001b[0m\u001b[1;32m   1324\u001b[0m     \u001b[0;32mexcept\u001b[0m \u001b[0merrors\u001b[0m\u001b[0;34m.\u001b[0m\u001b[0mOpError\u001b[0m \u001b[0;32mas\u001b[0m \u001b[0me\u001b[0m\u001b[0;34m:\u001b[0m\u001b[0;34m\u001b[0m\u001b[0m\n",
      "\u001b[0;32m~/.local/lib/python3.5/site-packages/tensorflow/python/client/session.py\u001b[0m in \u001b[0;36m_run_fn\u001b[0;34m(session, feed_dict, fetch_list, target_list, options, run_metadata)\u001b[0m\n\u001b[1;32m   1301\u001b[0m                                    \u001b[0mfeed_dict\u001b[0m\u001b[0;34m,\u001b[0m \u001b[0mfetch_list\u001b[0m\u001b[0;34m,\u001b[0m \u001b[0mtarget_list\u001b[0m\u001b[0;34m,\u001b[0m\u001b[0;34m\u001b[0m\u001b[0m\n\u001b[0;32m-> 1302\u001b[0;31m                                    status, run_metadata)\n\u001b[0m\u001b[1;32m   1303\u001b[0m \u001b[0;34m\u001b[0m\u001b[0m\n",
      "\u001b[0;32m~/.local/lib/python3.5/site-packages/tensorflow/python/framework/errors_impl.py\u001b[0m in \u001b[0;36m__exit__\u001b[0;34m(self, type_arg, value_arg, traceback_arg)\u001b[0m\n\u001b[1;32m    472\u001b[0m             \u001b[0mcompat\u001b[0m\u001b[0;34m.\u001b[0m\u001b[0mas_text\u001b[0m\u001b[0;34m(\u001b[0m\u001b[0mc_api\u001b[0m\u001b[0;34m.\u001b[0m\u001b[0mTF_Message\u001b[0m\u001b[0;34m(\u001b[0m\u001b[0mself\u001b[0m\u001b[0;34m.\u001b[0m\u001b[0mstatus\u001b[0m\u001b[0;34m.\u001b[0m\u001b[0mstatus\u001b[0m\u001b[0;34m)\u001b[0m\u001b[0;34m)\u001b[0m\u001b[0;34m,\u001b[0m\u001b[0;34m\u001b[0m\u001b[0m\n\u001b[0;32m--> 473\u001b[0;31m             c_api.TF_GetCode(self.status.status))\n\u001b[0m\u001b[1;32m    474\u001b[0m     \u001b[0;31m# Delete the underlying status object from memory otherwise it stays alive\u001b[0m\u001b[0;34m\u001b[0m\u001b[0;34m\u001b[0m\u001b[0m\n",
      "\u001b[0;31mResourceExhaustedError\u001b[0m: OOM when allocating tensor with shape[256,64,3,3]\n\t [[Node: SRGAN_g/n256s1/2/Conv2D = Conv2D[T=DT_FLOAT, data_format=\"NHWC\", padding=\"SAME\", strides=[1, 1, 1, 1], use_cudnn_on_gpu=true, _device=\"/job:localhost/replica:0/task:0/device:GPU:0\"](SRGAN_g/pixelshufflerx2/1/Relu, SRGAN_g/n256s1/2/W_conv2d/read)]]\n\t [[Node: SRGAN_g/out/Tanh/_349 = _Recv[client_terminated=false, recv_device=\"/job:localhost/replica:0/task:0/device:CPU:0\", send_device=\"/job:localhost/replica:0/task:0/device:GPU:0\", send_device_incarnation=1, tensor_name=\"edge_918_SRGAN_g/out/Tanh\", tensor_type=DT_FLOAT, _device=\"/job:localhost/replica:0/task:0/device:CPU:0\"]()]]",
      "\nDuring handling of the above exception, another exception occurred:\n",
      "\u001b[0;31mResourceExhaustedError\u001b[0m                    Traceback (most recent call last)",
      "\u001b[0;32m<ipython-input-8-b423e6ef2da0>\u001b[0m in \u001b[0;36m<module>\u001b[0;34m()\u001b[0m\n\u001b[0;32m----> 1\u001b[0;31m \u001b[0mout\u001b[0m \u001b[0;34m=\u001b[0m \u001b[0msess\u001b[0m\u001b[0;34m.\u001b[0m\u001b[0mrun\u001b[0m\u001b[0;34m(\u001b[0m\u001b[0mnet_g\u001b[0m\u001b[0;34m.\u001b[0m\u001b[0moutputs\u001b[0m\u001b[0;34m,\u001b[0m \u001b[0;34m{\u001b[0m\u001b[0mt_image\u001b[0m\u001b[0;34m:\u001b[0m \u001b[0;34m[\u001b[0m\u001b[0mvalid_lr_img\u001b[0m\u001b[0;34m]\u001b[0m\u001b[0;34m}\u001b[0m\u001b[0;34m)\u001b[0m\u001b[0;34m\u001b[0m\u001b[0m\n\u001b[0m",
      "\u001b[0;32m~/.local/lib/python3.5/site-packages/tensorflow/python/client/session.py\u001b[0m in \u001b[0;36mrun\u001b[0;34m(self, fetches, feed_dict, options, run_metadata)\u001b[0m\n\u001b[1;32m    887\u001b[0m     \u001b[0;32mtry\u001b[0m\u001b[0;34m:\u001b[0m\u001b[0;34m\u001b[0m\u001b[0m\n\u001b[1;32m    888\u001b[0m       result = self._run(None, fetches, feed_dict, options_ptr,\n\u001b[0;32m--> 889\u001b[0;31m                          run_metadata_ptr)\n\u001b[0m\u001b[1;32m    890\u001b[0m       \u001b[0;32mif\u001b[0m \u001b[0mrun_metadata\u001b[0m\u001b[0;34m:\u001b[0m\u001b[0;34m\u001b[0m\u001b[0m\n\u001b[1;32m    891\u001b[0m         \u001b[0mproto_data\u001b[0m \u001b[0;34m=\u001b[0m \u001b[0mtf_session\u001b[0m\u001b[0;34m.\u001b[0m\u001b[0mTF_GetBuffer\u001b[0m\u001b[0;34m(\u001b[0m\u001b[0mrun_metadata_ptr\u001b[0m\u001b[0;34m)\u001b[0m\u001b[0;34m\u001b[0m\u001b[0m\n",
      "\u001b[0;32m~/.local/lib/python3.5/site-packages/tensorflow/python/client/session.py\u001b[0m in \u001b[0;36m_run\u001b[0;34m(self, handle, fetches, feed_dict, options, run_metadata)\u001b[0m\n\u001b[1;32m   1118\u001b[0m     \u001b[0;32mif\u001b[0m \u001b[0mfinal_fetches\u001b[0m \u001b[0;32mor\u001b[0m \u001b[0mfinal_targets\u001b[0m \u001b[0;32mor\u001b[0m \u001b[0;34m(\u001b[0m\u001b[0mhandle\u001b[0m \u001b[0;32mand\u001b[0m \u001b[0mfeed_dict_tensor\u001b[0m\u001b[0;34m)\u001b[0m\u001b[0;34m:\u001b[0m\u001b[0;34m\u001b[0m\u001b[0m\n\u001b[1;32m   1119\u001b[0m       results = self._do_run(handle, final_targets, final_fetches,\n\u001b[0;32m-> 1120\u001b[0;31m                              feed_dict_tensor, options, run_metadata)\n\u001b[0m\u001b[1;32m   1121\u001b[0m     \u001b[0;32melse\u001b[0m\u001b[0;34m:\u001b[0m\u001b[0;34m\u001b[0m\u001b[0m\n\u001b[1;32m   1122\u001b[0m       \u001b[0mresults\u001b[0m \u001b[0;34m=\u001b[0m \u001b[0;34m[\u001b[0m\u001b[0;34m]\u001b[0m\u001b[0;34m\u001b[0m\u001b[0m\n",
      "\u001b[0;32m~/.local/lib/python3.5/site-packages/tensorflow/python/client/session.py\u001b[0m in \u001b[0;36m_do_run\u001b[0;34m(self, handle, target_list, fetch_list, feed_dict, options, run_metadata)\u001b[0m\n\u001b[1;32m   1315\u001b[0m     \u001b[0;32mif\u001b[0m \u001b[0mhandle\u001b[0m \u001b[0;32mis\u001b[0m \u001b[0;32mNone\u001b[0m\u001b[0;34m:\u001b[0m\u001b[0;34m\u001b[0m\u001b[0m\n\u001b[1;32m   1316\u001b[0m       return self._do_call(_run_fn, self._session, feeds, fetches, targets,\n\u001b[0;32m-> 1317\u001b[0;31m                            options, run_metadata)\n\u001b[0m\u001b[1;32m   1318\u001b[0m     \u001b[0;32melse\u001b[0m\u001b[0;34m:\u001b[0m\u001b[0;34m\u001b[0m\u001b[0m\n\u001b[1;32m   1319\u001b[0m       \u001b[0;32mreturn\u001b[0m \u001b[0mself\u001b[0m\u001b[0;34m.\u001b[0m\u001b[0m_do_call\u001b[0m\u001b[0;34m(\u001b[0m\u001b[0m_prun_fn\u001b[0m\u001b[0;34m,\u001b[0m \u001b[0mself\u001b[0m\u001b[0;34m.\u001b[0m\u001b[0m_session\u001b[0m\u001b[0;34m,\u001b[0m \u001b[0mhandle\u001b[0m\u001b[0;34m,\u001b[0m \u001b[0mfeeds\u001b[0m\u001b[0;34m,\u001b[0m \u001b[0mfetches\u001b[0m\u001b[0;34m)\u001b[0m\u001b[0;34m\u001b[0m\u001b[0m\n",
      "\u001b[0;32m~/.local/lib/python3.5/site-packages/tensorflow/python/client/session.py\u001b[0m in \u001b[0;36m_do_call\u001b[0;34m(self, fn, *args)\u001b[0m\n\u001b[1;32m   1334\u001b[0m         \u001b[0;32mexcept\u001b[0m \u001b[0mKeyError\u001b[0m\u001b[0;34m:\u001b[0m\u001b[0;34m\u001b[0m\u001b[0m\n\u001b[1;32m   1335\u001b[0m           \u001b[0;32mpass\u001b[0m\u001b[0;34m\u001b[0m\u001b[0m\n\u001b[0;32m-> 1336\u001b[0;31m       \u001b[0;32mraise\u001b[0m \u001b[0mtype\u001b[0m\u001b[0;34m(\u001b[0m\u001b[0me\u001b[0m\u001b[0;34m)\u001b[0m\u001b[0;34m(\u001b[0m\u001b[0mnode_def\u001b[0m\u001b[0;34m,\u001b[0m \u001b[0mop\u001b[0m\u001b[0;34m,\u001b[0m \u001b[0mmessage\u001b[0m\u001b[0;34m)\u001b[0m\u001b[0;34m\u001b[0m\u001b[0m\n\u001b[0m\u001b[1;32m   1337\u001b[0m \u001b[0;34m\u001b[0m\u001b[0m\n\u001b[1;32m   1338\u001b[0m   \u001b[0;32mdef\u001b[0m \u001b[0m_extend_graph\u001b[0m\u001b[0;34m(\u001b[0m\u001b[0mself\u001b[0m\u001b[0;34m)\u001b[0m\u001b[0;34m:\u001b[0m\u001b[0;34m\u001b[0m\u001b[0m\n",
      "\u001b[0;31mResourceExhaustedError\u001b[0m: OOM when allocating tensor with shape[256,64,3,3]\n\t [[Node: SRGAN_g/n256s1/2/Conv2D = Conv2D[T=DT_FLOAT, data_format=\"NHWC\", padding=\"SAME\", strides=[1, 1, 1, 1], use_cudnn_on_gpu=true, _device=\"/job:localhost/replica:0/task:0/device:GPU:0\"](SRGAN_g/pixelshufflerx2/1/Relu, SRGAN_g/n256s1/2/W_conv2d/read)]]\n\t [[Node: SRGAN_g/out/Tanh/_349 = _Recv[client_terminated=false, recv_device=\"/job:localhost/replica:0/task:0/device:CPU:0\", send_device=\"/job:localhost/replica:0/task:0/device:GPU:0\", send_device_incarnation=1, tensor_name=\"edge_918_SRGAN_g/out/Tanh\", tensor_type=DT_FLOAT, _device=\"/job:localhost/replica:0/task:0/device:CPU:0\"]()]]\n\nCaused by op 'SRGAN_g/n256s1/2/Conv2D', defined at:\n  File \"/home/hoppe/anaconda3/envs/tensorflow_env/lib/python3.5/runpy.py\", line 193, in _run_module_as_main\n    \"__main__\", mod_spec)\n  File \"/home/hoppe/anaconda3/envs/tensorflow_env/lib/python3.5/runpy.py\", line 85, in _run_code\n    exec(code, run_globals)\n  File \"/home/hoppe/anaconda3/envs/tensorflow_env/lib/python3.5/site-packages/ipykernel_launcher.py\", line 16, in <module>\n    app.launch_new_instance()\n  File \"/home/hoppe/anaconda3/envs/tensorflow_env/lib/python3.5/site-packages/traitlets/config/application.py\", line 658, in launch_instance\n    app.start()\n  File \"/home/hoppe/anaconda3/envs/tensorflow_env/lib/python3.5/site-packages/ipykernel/kernelapp.py\", line 486, in start\n    self.io_loop.start()\n  File \"/home/hoppe/anaconda3/envs/tensorflow_env/lib/python3.5/site-packages/zmq/eventloop/ioloop.py\", line 177, in start\n    super(ZMQIOLoop, self).start()\n  File \"/home/hoppe/anaconda3/envs/tensorflow_env/lib/python3.5/site-packages/tornado/ioloop.py\", line 888, in start\n    handler_func(fd_obj, events)\n  File \"/home/hoppe/anaconda3/envs/tensorflow_env/lib/python3.5/site-packages/tornado/stack_context.py\", line 277, in null_wrapper\n    return fn(*args, **kwargs)\n  File \"/home/hoppe/anaconda3/envs/tensorflow_env/lib/python3.5/site-packages/zmq/eventloop/zmqstream.py\", line 440, in _handle_events\n    self._handle_recv()\n  File \"/home/hoppe/anaconda3/envs/tensorflow_env/lib/python3.5/site-packages/zmq/eventloop/zmqstream.py\", line 472, in _handle_recv\n    self._run_callback(callback, msg)\n  File \"/home/hoppe/anaconda3/envs/tensorflow_env/lib/python3.5/site-packages/zmq/eventloop/zmqstream.py\", line 414, in _run_callback\n    callback(*args, **kwargs)\n  File \"/home/hoppe/anaconda3/envs/tensorflow_env/lib/python3.5/site-packages/tornado/stack_context.py\", line 277, in null_wrapper\n    return fn(*args, **kwargs)\n  File \"/home/hoppe/anaconda3/envs/tensorflow_env/lib/python3.5/site-packages/ipykernel/kernelbase.py\", line 283, in dispatcher\n    return self.dispatch_shell(stream, msg)\n  File \"/home/hoppe/anaconda3/envs/tensorflow_env/lib/python3.5/site-packages/ipykernel/kernelbase.py\", line 233, in dispatch_shell\n    handler(stream, idents, msg)\n  File \"/home/hoppe/anaconda3/envs/tensorflow_env/lib/python3.5/site-packages/ipykernel/kernelbase.py\", line 399, in execute_request\n    user_expressions, allow_stdin)\n  File \"/home/hoppe/anaconda3/envs/tensorflow_env/lib/python3.5/site-packages/ipykernel/ipkernel.py\", line 208, in do_execute\n    res = shell.run_cell(code, store_history=store_history, silent=silent)\n  File \"/home/hoppe/anaconda3/envs/tensorflow_env/lib/python3.5/site-packages/ipykernel/zmqshell.py\", line 537, in run_cell\n    return super(ZMQInteractiveShell, self).run_cell(*args, **kwargs)\n  File \"/home/hoppe/anaconda3/envs/tensorflow_env/lib/python3.5/site-packages/IPython/core/interactiveshell.py\", line 2662, in run_cell\n    raw_cell, store_history, silent, shell_futures)\n  File \"/home/hoppe/anaconda3/envs/tensorflow_env/lib/python3.5/site-packages/IPython/core/interactiveshell.py\", line 2785, in _run_cell\n    interactivity=interactivity, compiler=compiler, result=result)\n  File \"/home/hoppe/anaconda3/envs/tensorflow_env/lib/python3.5/site-packages/IPython/core/interactiveshell.py\", line 2903, in run_ast_nodes\n    if self.run_code(code, result):\n  File \"/home/hoppe/anaconda3/envs/tensorflow_env/lib/python3.5/site-packages/IPython/core/interactiveshell.py\", line 2963, in run_code\n    exec(code_obj, self.user_global_ns, self.user_ns)\n  File \"<ipython-input-6-544b41251620>\", line 2, in <module>\n    net_g = SRGAN_g(t_image, is_train=False, reuse=False)\n  File \"/home/hoppe/Code/726/srgan-master/model.py\", line 47, in SRGAN_g\n    n = Conv2d(n, 256, (3, 3), (1, 1), act=None, padding='SAME', W_init=w_init, name='n256s1/2')\n  File \"/home/hoppe/anaconda3/envs/tensorflow_env/lib/python3.5/site-packages/tensorlayer/layers/convolution.py\", line 1369, in conv2d\n    name=name)\n  File \"/home/hoppe/anaconda3/envs/tensorflow_env/lib/python3.5/site-packages/tensorlayer/layers/convolution.py\", line 188, in __init__\n    tf.nn.conv2d(self.inputs, W, strides=strides, padding=padding, use_cudnn_on_gpu=use_cudnn_on_gpu, data_format=data_format) + b)\n  File \"/home/hoppe/.local/lib/python3.5/site-packages/tensorflow/python/ops/gen_nn_ops.py\", line 631, in conv2d\n    data_format=data_format, name=name)\n  File \"/home/hoppe/.local/lib/python3.5/site-packages/tensorflow/python/framework/op_def_library.py\", line 787, in _apply_op_helper\n    op_def=op_def)\n  File \"/home/hoppe/.local/lib/python3.5/site-packages/tensorflow/python/framework/ops.py\", line 2956, in create_op\n    op_def=op_def)\n  File \"/home/hoppe/.local/lib/python3.5/site-packages/tensorflow/python/framework/ops.py\", line 1470, in __init__\n    self._traceback = self._graph._extract_stack()  # pylint: disable=protected-access\n\nResourceExhaustedError (see above for traceback): OOM when allocating tensor with shape[256,64,3,3]\n\t [[Node: SRGAN_g/n256s1/2/Conv2D = Conv2D[T=DT_FLOAT, data_format=\"NHWC\", padding=\"SAME\", strides=[1, 1, 1, 1], use_cudnn_on_gpu=true, _device=\"/job:localhost/replica:0/task:0/device:GPU:0\"](SRGAN_g/pixelshufflerx2/1/Relu, SRGAN_g/n256s1/2/W_conv2d/read)]]\n\t [[Node: SRGAN_g/out/Tanh/_349 = _Recv[client_terminated=false, recv_device=\"/job:localhost/replica:0/task:0/device:CPU:0\", send_device=\"/job:localhost/replica:0/task:0/device:GPU:0\", send_device_incarnation=1, tensor_name=\"edge_918_SRGAN_g/out/Tanh\", tensor_type=DT_FLOAT, _device=\"/job:localhost/replica:0/task:0/device:CPU:0\"]()]]\n"
     ]
    }
   ],
   "source": [
    "out = sess.run(net_g.outputs, {t_image: [valid_lr_img]})"
   ]
  },
  {
   "cell_type": "code",
   "execution_count": null,
   "metadata": {},
   "outputs": [],
   "source": []
  },
  {
   "cell_type": "code",
   "execution_count": null,
   "metadata": {},
   "outputs": [],
   "source": []
  },
  {
   "cell_type": "code",
   "execution_count": null,
   "metadata": {},
   "outputs": [],
   "source": []
  },
  {
   "cell_type": "code",
   "execution_count": null,
   "metadata": {},
   "outputs": [],
   "source": []
  },
  {
   "cell_type": "code",
   "execution_count": 20,
   "metadata": {},
   "outputs": [],
   "source": [
    "from PIL import Image\n",
    "import numpy as np\n",
    "\n",
    "img = Image.fromarray(valid_lr_imgs[50], 'RGB')\n",
    "img.save('my.png')\n",
    "img.show()"
   ]
  }
 ],
 "metadata": {
  "kernelspec": {
   "display_name": "Python 3",
   "language": "python",
   "name": "python3"
  },
  "language_info": {
   "codemirror_mode": {
    "name": "ipython",
    "version": 3
   },
   "file_extension": ".py",
   "mimetype": "text/x-python",
   "name": "python",
   "nbconvert_exporter": "python",
   "pygments_lexer": "ipython3",
   "version": "3.5.4"
  }
 },
 "nbformat": 4,
 "nbformat_minor": 2
}
