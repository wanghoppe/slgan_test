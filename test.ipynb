{
 "cells": [
  {
   "cell_type": "code",
   "execution_count": 1,
   "metadata": {},
   "outputs": [],
   "source": [
    "import os, time, pickle, random, time\n",
    "from datetime import datetime\n",
    "import numpy as np\n",
    "from time import localtime, strftime\n",
    "import logging, scipy\n",
    "\n",
    "import tensorflow as tf\n",
    "import tensorlayer as tl\n",
    "from model import SRGAN_g, SRGAN_d, Vgg19_simple_api\n",
    "from utils import *\n",
    "from config import config, log_config"
   ]
  },
  {
   "cell_type": "code",
   "execution_count": 24,
   "metadata": {},
   "outputs": [],
   "source": [
    "checkpoint_dir = \"checkpoint\"\n",
    "save_dir = 'sample_dir'\n",
    "path = './test_img/DIV2K_valid_LR_bicubic/X4'"
   ]
  },
  {
   "cell_type": "code",
   "execution_count": 8,
   "metadata": {},
   "outputs": [
    {
     "name": "stdout",
     "output_type": "stream",
     "text": [
      "[TL] read 32 from ./test_img/DIV2K_valid_LR_bicubic/X4\n",
      "[TL] read 64 from ./test_img/DIV2K_valid_LR_bicubic/X4\n",
      "[TL] read 96 from ./test_img/DIV2K_valid_LR_bicubic/X4\n",
      "[TL] read 100 from ./test_img/DIV2K_valid_LR_bicubic/X4\n"
     ]
    }
   ],
   "source": [
    "valid_lr_img_list = sorted(tl.files.load_file_list(path=path, regx='.*.png', printable=False))\n",
    "\n",
    "valid_lr_imgs = tl.vis.read_images(valid_lr_img_list, \\\n",
    "                        path=path, n_threads=32)\n",
    "\n",
    "valid_lr_imgs = tl.vis.read_images(valid_lr_img_list, \\\n",
    "                        path=path, n_threads=32)"
   ]
  },
  {
   "cell_type": "code",
   "execution_count": 12,
   "metadata": {},
   "outputs": [],
   "source": [
    "imid = 50  # 0: 企鹅  81: 蝴蝶 53: 鸟  64: 古堡\n",
    "valid_lr_img = valid_lr_imgs[imid]\n",
    "valid_lr_img = (valid_lr_img / 127.5) - 1"
   ]
  },
  {
   "cell_type": "code",
   "execution_count": 13,
   "metadata": {
    "collapsed": true
   },
   "outputs": [
    {
     "name": "stdout",
     "output_type": "stream",
     "text": [
      "[TL] InputLayer  SRGAN_g/in: (1, ?, ?, 3)\n",
      "[TL] Conv2d SRGAN_g/n64s1/c: n_filter: 64 filter_size: (3, 3) strides: (1, 1) pad: SAME act: relu\n",
      "[TL] Conv2d SRGAN_g/n64s1/c1/0: n_filter: 64 filter_size: (3, 3) strides: (1, 1) pad: SAME act: No Activation\n",
      "[TL] BatchNormLayer SRGAN_g/n64s1/b1/0: decay: 0.900000 epsilon: 0.000010 act: relu is_train: False\n",
      "[TL] Conv2d SRGAN_g/n64s1/c2/0: n_filter: 64 filter_size: (3, 3) strides: (1, 1) pad: SAME act: No Activation\n",
      "[TL] BatchNormLayer SRGAN_g/n64s1/b2/0: decay: 0.900000 epsilon: 0.000010 act: No Activation is_train: False\n",
      "[TL] ElementwiseLayer SRGAN_g/b_residual_add/0: size: (1, ?, ?, 64) fn: add\n",
      "[TL] Conv2d SRGAN_g/n64s1/c1/1: n_filter: 64 filter_size: (3, 3) strides: (1, 1) pad: SAME act: No Activation\n",
      "[TL] BatchNormLayer SRGAN_g/n64s1/b1/1: decay: 0.900000 epsilon: 0.000010 act: relu is_train: False\n",
      "[TL] Conv2d SRGAN_g/n64s1/c2/1: n_filter: 64 filter_size: (3, 3) strides: (1, 1) pad: SAME act: No Activation\n",
      "[TL] BatchNormLayer SRGAN_g/n64s1/b2/1: decay: 0.900000 epsilon: 0.000010 act: No Activation is_train: False\n",
      "[TL] ElementwiseLayer SRGAN_g/b_residual_add/1: size: (1, ?, ?, 64) fn: add\n",
      "[TL] Conv2d SRGAN_g/n64s1/c1/2: n_filter: 64 filter_size: (3, 3) strides: (1, 1) pad: SAME act: No Activation\n",
      "[TL] BatchNormLayer SRGAN_g/n64s1/b1/2: decay: 0.900000 epsilon: 0.000010 act: relu is_train: False\n",
      "[TL] Conv2d SRGAN_g/n64s1/c2/2: n_filter: 64 filter_size: (3, 3) strides: (1, 1) pad: SAME act: No Activation\n",
      "[TL] BatchNormLayer SRGAN_g/n64s1/b2/2: decay: 0.900000 epsilon: 0.000010 act: No Activation is_train: False\n",
      "[TL] ElementwiseLayer SRGAN_g/b_residual_add/2: size: (1, ?, ?, 64) fn: add\n",
      "[TL] Conv2d SRGAN_g/n64s1/c1/3: n_filter: 64 filter_size: (3, 3) strides: (1, 1) pad: SAME act: No Activation\n",
      "[TL] BatchNormLayer SRGAN_g/n64s1/b1/3: decay: 0.900000 epsilon: 0.000010 act: relu is_train: False\n",
      "[TL] Conv2d SRGAN_g/n64s1/c2/3: n_filter: 64 filter_size: (3, 3) strides: (1, 1) pad: SAME act: No Activation\n",
      "[TL] BatchNormLayer SRGAN_g/n64s1/b2/3: decay: 0.900000 epsilon: 0.000010 act: No Activation is_train: False\n",
      "[TL] ElementwiseLayer SRGAN_g/b_residual_add/3: size: (1, ?, ?, 64) fn: add\n",
      "[TL] Conv2d SRGAN_g/n64s1/c1/4: n_filter: 64 filter_size: (3, 3) strides: (1, 1) pad: SAME act: No Activation\n",
      "[TL] BatchNormLayer SRGAN_g/n64s1/b1/4: decay: 0.900000 epsilon: 0.000010 act: relu is_train: False\n",
      "[TL] Conv2d SRGAN_g/n64s1/c2/4: n_filter: 64 filter_size: (3, 3) strides: (1, 1) pad: SAME act: No Activation\n",
      "[TL] BatchNormLayer SRGAN_g/n64s1/b2/4: decay: 0.900000 epsilon: 0.000010 act: No Activation is_train: False\n",
      "[TL] ElementwiseLayer SRGAN_g/b_residual_add/4: size: (1, ?, ?, 64) fn: add\n",
      "[TL] Conv2d SRGAN_g/n64s1/c1/5: n_filter: 64 filter_size: (3, 3) strides: (1, 1) pad: SAME act: No Activation\n",
      "[TL] BatchNormLayer SRGAN_g/n64s1/b1/5: decay: 0.900000 epsilon: 0.000010 act: relu is_train: False\n",
      "[TL] Conv2d SRGAN_g/n64s1/c2/5: n_filter: 64 filter_size: (3, 3) strides: (1, 1) pad: SAME act: No Activation\n",
      "[TL] BatchNormLayer SRGAN_g/n64s1/b2/5: decay: 0.900000 epsilon: 0.000010 act: No Activation is_train: False\n",
      "[TL] ElementwiseLayer SRGAN_g/b_residual_add/5: size: (1, ?, ?, 64) fn: add\n",
      "[TL] Conv2d SRGAN_g/n64s1/c1/6: n_filter: 64 filter_size: (3, 3) strides: (1, 1) pad: SAME act: No Activation\n",
      "[TL] BatchNormLayer SRGAN_g/n64s1/b1/6: decay: 0.900000 epsilon: 0.000010 act: relu is_train: False\n",
      "[TL] Conv2d SRGAN_g/n64s1/c2/6: n_filter: 64 filter_size: (3, 3) strides: (1, 1) pad: SAME act: No Activation\n",
      "[TL] BatchNormLayer SRGAN_g/n64s1/b2/6: decay: 0.900000 epsilon: 0.000010 act: No Activation is_train: False\n",
      "[TL] ElementwiseLayer SRGAN_g/b_residual_add/6: size: (1, ?, ?, 64) fn: add\n",
      "[TL] Conv2d SRGAN_g/n64s1/c1/7: n_filter: 64 filter_size: (3, 3) strides: (1, 1) pad: SAME act: No Activation\n",
      "[TL] BatchNormLayer SRGAN_g/n64s1/b1/7: decay: 0.900000 epsilon: 0.000010 act: relu is_train: False\n",
      "[TL] Conv2d SRGAN_g/n64s1/c2/7: n_filter: 64 filter_size: (3, 3) strides: (1, 1) pad: SAME act: No Activation\n",
      "[TL] BatchNormLayer SRGAN_g/n64s1/b2/7: decay: 0.900000 epsilon: 0.000010 act: No Activation is_train: False\n",
      "[TL] ElementwiseLayer SRGAN_g/b_residual_add/7: size: (1, ?, ?, 64) fn: add\n",
      "[TL] Conv2d SRGAN_g/n64s1/c1/8: n_filter: 64 filter_size: (3, 3) strides: (1, 1) pad: SAME act: No Activation\n",
      "[TL] BatchNormLayer SRGAN_g/n64s1/b1/8: decay: 0.900000 epsilon: 0.000010 act: relu is_train: False\n",
      "[TL] Conv2d SRGAN_g/n64s1/c2/8: n_filter: 64 filter_size: (3, 3) strides: (1, 1) pad: SAME act: No Activation\n",
      "[TL] BatchNormLayer SRGAN_g/n64s1/b2/8: decay: 0.900000 epsilon: 0.000010 act: No Activation is_train: False\n",
      "[TL] ElementwiseLayer SRGAN_g/b_residual_add/8: size: (1, ?, ?, 64) fn: add\n",
      "[TL] Conv2d SRGAN_g/n64s1/c1/9: n_filter: 64 filter_size: (3, 3) strides: (1, 1) pad: SAME act: No Activation\n",
      "[TL] BatchNormLayer SRGAN_g/n64s1/b1/9: decay: 0.900000 epsilon: 0.000010 act: relu is_train: False\n",
      "[TL] Conv2d SRGAN_g/n64s1/c2/9: n_filter: 64 filter_size: (3, 3) strides: (1, 1) pad: SAME act: No Activation\n",
      "[TL] BatchNormLayer SRGAN_g/n64s1/b2/9: decay: 0.900000 epsilon: 0.000010 act: No Activation is_train: False\n",
      "[TL] ElementwiseLayer SRGAN_g/b_residual_add/9: size: (1, ?, ?, 64) fn: add\n",
      "[TL] Conv2d SRGAN_g/n64s1/c1/10: n_filter: 64 filter_size: (3, 3) strides: (1, 1) pad: SAME act: No Activation\n",
      "[TL] BatchNormLayer SRGAN_g/n64s1/b1/10: decay: 0.900000 epsilon: 0.000010 act: relu is_train: False\n",
      "[TL] Conv2d SRGAN_g/n64s1/c2/10: n_filter: 64 filter_size: (3, 3) strides: (1, 1) pad: SAME act: No Activation\n",
      "[TL] BatchNormLayer SRGAN_g/n64s1/b2/10: decay: 0.900000 epsilon: 0.000010 act: No Activation is_train: False\n",
      "[TL] ElementwiseLayer SRGAN_g/b_residual_add/10: size: (1, ?, ?, 64) fn: add\n",
      "[TL] Conv2d SRGAN_g/n64s1/c1/11: n_filter: 64 filter_size: (3, 3) strides: (1, 1) pad: SAME act: No Activation\n",
      "[TL] BatchNormLayer SRGAN_g/n64s1/b1/11: decay: 0.900000 epsilon: 0.000010 act: relu is_train: False\n",
      "[TL] Conv2d SRGAN_g/n64s1/c2/11: n_filter: 64 filter_size: (3, 3) strides: (1, 1) pad: SAME act: No Activation\n",
      "[TL] BatchNormLayer SRGAN_g/n64s1/b2/11: decay: 0.900000 epsilon: 0.000010 act: No Activation is_train: False\n",
      "[TL] ElementwiseLayer SRGAN_g/b_residual_add/11: size: (1, ?, ?, 64) fn: add\n",
      "[TL] Conv2d SRGAN_g/n64s1/c1/12: n_filter: 64 filter_size: (3, 3) strides: (1, 1) pad: SAME act: No Activation\n",
      "[TL] BatchNormLayer SRGAN_g/n64s1/b1/12: decay: 0.900000 epsilon: 0.000010 act: relu is_train: False\n",
      "[TL] Conv2d SRGAN_g/n64s1/c2/12: n_filter: 64 filter_size: (3, 3) strides: (1, 1) pad: SAME act: No Activation\n",
      "[TL] BatchNormLayer SRGAN_g/n64s1/b2/12: decay: 0.900000 epsilon: 0.000010 act: No Activation is_train: False\n",
      "[TL] ElementwiseLayer SRGAN_g/b_residual_add/12: size: (1, ?, ?, 64) fn: add\n",
      "[TL] Conv2d SRGAN_g/n64s1/c1/13: n_filter: 64 filter_size: (3, 3) strides: (1, 1) pad: SAME act: No Activation\n",
      "[TL] BatchNormLayer SRGAN_g/n64s1/b1/13: decay: 0.900000 epsilon: 0.000010 act: relu is_train: False\n",
      "[TL] Conv2d SRGAN_g/n64s1/c2/13: n_filter: 64 filter_size: (3, 3) strides: (1, 1) pad: SAME act: No Activation\n",
      "[TL] BatchNormLayer SRGAN_g/n64s1/b2/13: decay: 0.900000 epsilon: 0.000010 act: No Activation is_train: False\n",
      "[TL] ElementwiseLayer SRGAN_g/b_residual_add/13: size: (1, ?, ?, 64) fn: add\n",
      "[TL] Conv2d SRGAN_g/n64s1/c1/14: n_filter: 64 filter_size: (3, 3) strides: (1, 1) pad: SAME act: No Activation\n",
      "[TL] BatchNormLayer SRGAN_g/n64s1/b1/14: decay: 0.900000 epsilon: 0.000010 act: relu is_train: False\n",
      "[TL] Conv2d SRGAN_g/n64s1/c2/14: n_filter: 64 filter_size: (3, 3) strides: (1, 1) pad: SAME act: No Activation\n",
      "[TL] BatchNormLayer SRGAN_g/n64s1/b2/14: decay: 0.900000 epsilon: 0.000010 act: No Activation is_train: False\n",
      "[TL] ElementwiseLayer SRGAN_g/b_residual_add/14: size: (1, ?, ?, 64) fn: add\n",
      "[TL] Conv2d SRGAN_g/n64s1/c1/15: n_filter: 64 filter_size: (3, 3) strides: (1, 1) pad: SAME act: No Activation\n",
      "[TL] BatchNormLayer SRGAN_g/n64s1/b1/15: decay: 0.900000 epsilon: 0.000010 act: relu is_train: False\n",
      "[TL] Conv2d SRGAN_g/n64s1/c2/15: n_filter: 64 filter_size: (3, 3) strides: (1, 1) pad: SAME act: No Activation\n",
      "[TL] BatchNormLayer SRGAN_g/n64s1/b2/15: decay: 0.900000 epsilon: 0.000010 act: No Activation is_train: False\n",
      "[TL] ElementwiseLayer SRGAN_g/b_residual_add/15: size: (1, ?, ?, 64) fn: add\n"
     ]
    },
    {
     "name": "stdout",
     "output_type": "stream",
     "text": [
      "[TL] Conv2d SRGAN_g/n64s1/c/m: n_filter: 64 filter_size: (3, 3) strides: (1, 1) pad: SAME act: No Activation\n",
      "[TL] BatchNormLayer SRGAN_g/n64s1/b/m: decay: 0.900000 epsilon: 0.000010 act: No Activation is_train: False\n",
      "[TL] ElementwiseLayer SRGAN_g/add3: size: (1, ?, ?, 64) fn: add\n",
      "[TL] Conv2d SRGAN_g/n256s1/1: n_filter: 256 filter_size: (3, 3) strides: (1, 1) pad: SAME act: No Activation\n",
      "[TL] SubpixelConv2d  SRGAN_g/pixelshufflerx2/1: scale: 2 n_out_channel: 64 act: relu\n",
      "[TL] Conv2d SRGAN_g/n256s1/2: n_filter: 256 filter_size: (3, 3) strides: (1, 1) pad: SAME act: No Activation\n",
      "[TL] SubpixelConv2d  SRGAN_g/pixelshufflerx2/2: scale: 2 n_out_channel: 64 act: relu\n",
      "[TL] Conv2d SRGAN_g/out: n_filter: 3 filter_size: (1, 1) strides: (1, 1) pad: SAME act: tanh\n"
     ]
    }
   ],
   "source": [
    "t_image = tf.placeholder('float32', [1, None, None, 3], name='input_image')\n",
    "net_g = SRGAN_g(t_image, is_train=False, reuse=False)\n",
    "\n",
    "sess = tf.Session(config=tf.ConfigProto(allow_soft_placement=True, log_device_placement=False))\n",
    "tl.layers.initialize_global_variables(sess)\n",
    "tl.files.load_and_assign_npz(sess=sess, name=checkpoint_dir + '/g_srgan.npz', network=net_g)"
   ]
  },
  {
   "cell_type": "code",
   "execution_count": 17,
   "metadata": {},
   "outputs": [],
   "source": [
    "out = sess.run(net_g.outputs, {t_image: [valid_lr_img]})"
   ]
  },
  {
   "cell_type": "code",
   "execution_count": 18,
   "metadata": {},
   "outputs": [
    {
     "data": {
      "text/plain": [
       "(1, 1344, 2040, 3)"
      ]
     },
     "execution_count": 18,
     "metadata": {},
     "output_type": "execute_result"
    }
   ],
   "source": [
    "out.shape"
   ]
  },
  {
   "cell_type": "code",
   "execution_count": 33,
   "metadata": {},
   "outputs": [
    {
     "name": "stderr",
     "output_type": "stream",
     "text": [
      "WARNING:root:Lossy conversion from float32 to uint8. Range [-0.9989018440246582, 0.9982323050498962]. Convert image to uint8 prior to saving to suppress this warning.\n"
     ]
    }
   ],
   "source": [
    "tl.vis.save_image(out[0], 'output' + '/valid_gen.png')"
   ]
  },
  {
   "cell_type": "code",
   "execution_count": 35,
   "metadata": {},
   "outputs": [
    {
     "name": "stderr",
     "output_type": "stream",
     "text": [
      "WARNING:root:Lossy conversion from float64 to uint8. Range [-1.0, 1.0]. Convert image to uint8 prior to saving to suppress this warning.\n"
     ]
    }
   ],
   "source": [
    "tl.vis.save_image(valid_lr_img, 'output' + '/valid_ori.png')"
   ]
  },
  {
   "cell_type": "code",
   "execution_count": 28,
   "metadata": {},
   "outputs": [
    {
     "data": {
      "text/plain": [
       "(336, 510, 3)"
      ]
     },
     "execution_count": 28,
     "metadata": {},
     "output_type": "execute_result"
    }
   ],
   "source": [
    "valid_lr_img.shape"
   ]
  },
  {
   "cell_type": "code",
   "execution_count": 11,
   "metadata": {},
   "outputs": [],
   "source": [
    "from PIL import Image\n",
    "import numpy as np\n",
    "\n",
    "img = Image.fromarray(valid_lr_imgs[50], 'RGB')\n",
    "img.save('my.png')\n",
    "img.show()"
   ]
  },
  {
   "cell_type": "code",
   "execution_count": null,
   "metadata": {},
   "outputs": [],
   "source": []
  }
 ],
 "metadata": {
  "kernelspec": {
   "display_name": "Python 3",
   "language": "python",
   "name": "python3"
  },
  "language_info": {
   "codemirror_mode": {
    "name": "ipython",
    "version": 3
   },
   "file_extension": ".py",
   "mimetype": "text/x-python",
   "name": "python",
   "nbconvert_exporter": "python",
   "pygments_lexer": "ipython3",
   "version": "3.6.6"
  }
 },
 "nbformat": 4,
 "nbformat_minor": 2
}
